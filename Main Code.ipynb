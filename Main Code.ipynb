{
 "cells": [
  {
   "cell_type": "code",
   "execution_count": null,
   "metadata": {},
   "outputs": [],
   "source": [
    "# Import necessary libraries\n",
    "import pandas as pd\n",
    "\n",
    "# Load the dataset\n",
    "file_path = r'D:\\Github\\Repos\\Biggest-Project\\Data\\FY_2024_Hospital_Readmissions_Reduction_Program_Hospital.csv'  # Replace with your actual file name\n",
    "data = pd.read_csv(file_path)\n",
    "\n",
    "# Inspect the first few rows of the dataset\n",
    "data.head()\n"
   ]
  },
  {
   "cell_type": "code",
   "execution_count": null,
   "metadata": {},
   "outputs": [],
   "source": []
  }
 ],
 "metadata": {
  "language_info": {
   "name": "python"
  }
 },
 "nbformat": 4,
 "nbformat_minor": 2
}
